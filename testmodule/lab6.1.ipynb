{
 "cells": [
  {
   "cell_type": "code",
   "execution_count": 1,
   "metadata": {},
   "outputs": [
    {
     "name": "stdout",
     "output_type": "stream",
     "text": [
      "นัทเก\n"
     ]
    }
   ],
   "source": [
    "print(\"นัทเก\")"
   ]
  },
  {
   "cell_type": "code",
   "execution_count": 2,
   "metadata": {},
   "outputs": [
    {
     "name": "stdout",
     "output_type": "stream",
     "text": [
      "Hello 0\n",
      "Hello 1\n",
      "Hello 2\n",
      "Hello 3\n",
      "Hello 4\n",
      "Hello 5\n",
      "Hello 6\n",
      "Hello 7\n",
      "Hello 8\n",
      "Hello 9\n"
     ]
    }
   ],
   "source": [
    "for i in range(10):\n",
    "    print(\"Hello %d\" %i)"
   ]
  },
  {
   "cell_type": "code",
   "execution_count": 4,
   "metadata": {},
   "outputs": [
    {
     "name": "stdout",
     "output_type": "stream",
     "text": [
      "15.5\n"
     ]
    }
   ],
   "source": [
    "a = 10.5\n",
    "b = 5\n",
    "print(a+b)"
   ]
  },
  {
   "cell_type": "code",
   "execution_count": 19,
   "metadata": {},
   "outputs": [
    {
     "name": "stdout",
     "output_type": "stream",
     "text": [
      "Fahrenheit: 80.60\n",
      "Kelvin: 300.15\n"
     ]
    }
   ],
   "source": [
    "def Fahrenheit(c):\n",
    "    f = (9/5) * c + 32\n",
    "    return f\n",
    "\n",
    "def Kelvin(c):\n",
    "    k = c + 273.15\n",
    "    return k\n",
    "\n",
    "calcel = float(input(\"Celsius: \")) \n",
    "fahrenheit = Fahrenheit(calcel)\n",
    "kelvin = Kelvin(calcel)\n",
    "\n",
    "print(f\"Fahrenheit: {fahrenheit:.2f}\")\n",
    "print(f\"Kelvin: {kelvin:.2f}\")\n"
   ]
  },
  {
   "cell_type": "code",
   "execution_count": 28,
   "metadata": {},
   "outputs": [
    {
     "name": "stdout",
     "output_type": "stream",
     "text": [
      "คะแนนไม่เกิน 20\n",
      "Total score is: 50\n"
     ]
    }
   ],
   "source": [
    "def sumnee():\n",
    "    while True:\n",
    "        score = int(input(\"Enter score (max 20): \"))\n",
    "        if score > 20:\n",
    "            print(\"คะแนนเก็บไม่เกิน 20\")\n",
    "            continue\n",
    "        \n",
    "        jitpisai = int(input(\"Enter jitpisai (max 10): \"))\n",
    "        if jitpisai > 10:\n",
    "            print(\"คะแนนจิตพิสัยไม่เกิน 10\")\n",
    "            continue\n",
    "        \n",
    "        midterm = int(input(\"Enter midterm (max 20): \"))\n",
    "        if midterm > 20:\n",
    "            print(\"คะแนนกลางภาคไม่เกิน 20\")\n",
    "            continue\n",
    "        \n",
    "        sumscore = score + jitpisai + midterm\n",
    "        return sumscore\n",
    "\n",
    "total_score = sumnee()\n",
    "print(f\"Total score is: {total_score}\")\n"
   ]
  },
  {
   "cell_type": "code",
   "execution_count": null,
   "metadata": {},
   "outputs": [],
   "source": []
  }
 ],
 "metadata": {
  "kernelspec": {
   "display_name": "base",
   "language": "python",
   "name": "python3"
  },
  "language_info": {
   "codemirror_mode": {
    "name": "ipython",
    "version": 3
   },
   "file_extension": ".py",
   "mimetype": "text/x-python",
   "name": "python",
   "nbconvert_exporter": "python",
   "pygments_lexer": "ipython3",
   "version": "3.11.7"
  }
 },
 "nbformat": 4,
 "nbformat_minor": 2
}
