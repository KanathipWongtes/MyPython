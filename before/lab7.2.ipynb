{
 "cells": [
  {
   "cell_type": "code",
   "execution_count": 26,
   "metadata": {},
   "outputs": [],
   "source": [
    "import tkinter as Tk\n",
    "app = tk.Tk()\n",
    "app.title('Design by Kanathip')\n",
    "button = tk.Button(text='กดฉัน')\n",
    "label = tk.Label(text=\"ต่อยกับฉันป่าวกดฉันดิ\")\n",
    "label.pack()\n",
    "button.pack()\n",
    "\n",
    "app.mainloop() "
   ]
  },
  {
   "cell_type": "code",
   "execution_count": 25,
   "metadata": {},
   "outputs": [
    {
     "name": "stdout",
     "output_type": "stream",
     "text": [
      "Name: สองรัก, Salary: พี่รับไม่ไหว\n"
     ]
    }
   ],
   "source": [
    "import tkinter as tk\n",
    "\n",
    "app = tk.Tk()\n",
    "app.geometry(\"500x300\")\n",
    "\n",
    "def showme():\n",
    "    name_value = name.get()\n",
    "    salary_value = salary.get()\n",
    "    print(f\"Name: {name_value}, Salary: {salary_value}\")\n",
    "\n",
    "app.title('Design by Somkiat')\n",
    "label = tk.Label(text=\"ชื่อพนักงาน:\")\n",
    "name = tk.Entry()\n",
    "label2 = tk.Label(text=\"เงินเดือน:\")\n",
    "salary = tk.Entry()\n",
    "btn = tk.Button(text=\"คลิ๊กฉัน\", command=showme)\n",
    "\n",
    "label.place(x=50, y=50)\n",
    "name.place(x=150, y=50)\n",
    "label2.place(x=50, y=100)\n",
    "salary.place(x=150, y=100)\n",
    "btn.place(x=50, y=150)\n",
    "\n",
    "app.mainloop()\n"
   ]
  }
 ],
 "metadata": {
  "kernelspec": {
   "display_name": "base",
   "language": "python",
   "name": "python3"
  },
  "language_info": {
   "codemirror_mode": {
    "name": "ipython",
    "version": 3
   },
   "file_extension": ".py",
   "mimetype": "text/x-python",
   "name": "python",
   "nbconvert_exporter": "python",
   "pygments_lexer": "ipython3",
   "version": "3.11.7"
  }
 },
 "nbformat": 4,
 "nbformat_minor": 2
}
