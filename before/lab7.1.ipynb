{
 "cells": [
  {
   "cell_type": "code",
   "execution_count": 7,
   "metadata": {},
   "outputs": [],
   "source": [
    "def calsalary(name, salary, otperhours):\n",
    "\n",
    "    rate = 100\n",
    "    \n",
    "    if otperhours > 40:\n",
    "        otpay = 40 * rate + (otperhours - 40) * rate * 1.5\n",
    "    else:\n",
    "        otpay = otperhours * rate\n",
    "\n",
    "    totalsalary = salary + otpay\n",
    "    \n",
    "    print(f\"พนักงาน: {name}\")\n",
    "    print(f\"เงินเดือนพื้นฐาน: {salary} บาท\")\n",
    "    print(f\"ล่วงเวลา : {otperhours} ชั่วโมง\")\n",
    "    print(f\"ค่าล่วงเวลา: {otpay} บาท\")\n",
    "    print(f\"เงินเดือนรวม: {totalsalary} บาท\")\n",
    " \n"
   ]
  },
  {
   "cell_type": "code",
   "execution_count": 8,
   "metadata": {},
   "outputs": [
    {
     "name": "stdout",
     "output_type": "stream",
     "text": [
      "พนักงาน: คณาธิป\n",
      "เงินเดือนพื้นฐาน: 10000 บาท\n",
      "ล่วงเวลา : 41 ชั่วโมง\n",
      "ค่าล่วงเวลา: 4150.0 บาท\n",
      "เงินเดือนรวม: 14150.0 บาท\n"
     ]
    }
   ],
   "source": [
    "name = str(input(\"ระบุชื่อพนักงาน : \"))\n",
    "salary = int(input(\"ระบุเงินเดือน : \"))\n",
    "otperhours = int(input(\"งานที่ทำล่วงเวลา : \"))\n",
    "\n",
    "calsalary(name, salary, otperhours)"
   ]
  }
 ],
 "metadata": {
  "kernelspec": {
   "display_name": "base",
   "language": "python",
   "name": "python3"
  },
  "language_info": {
   "codemirror_mode": {
    "name": "ipython",
    "version": 3
   },
   "file_extension": ".py",
   "mimetype": "text/x-python",
   "name": "python",
   "nbconvert_exporter": "python",
   "pygments_lexer": "ipython3",
   "version": "3.11.7"
  }
 },
 "nbformat": 4,
 "nbformat_minor": 2
}
