{
 "cells": [
  {
   "cell_type": "code",
   "execution_count": 21,
   "metadata": {},
   "outputs": [],
   "source": [
    "def calsalary(name, salary, otperhours):\n",
    "\n",
    "    rate = 100\n",
    "    \n",
    "    if otperhours > 40:\n",
    "        otpay = 40 * rate + (otperhours - 40) * rate * 1.5\n",
    "    else:\n",
    "        otpay = otperhours * rate\n",
    "\n",
    "    totalsalary = salary + otpay\n",
    "    \n",
    "    print(f\"พนักงาน: {name}\")\n",
    "    print(f\"เงินเดือนพื้นฐาน: {salary} บาท\")\n",
    "    print(f\"ค่าล่วงเวลา: {otpay} บาท\")\n",
    "    print(f\"เงินเดือนรวม: {totalsalary} บาท\")\n",
    "\n"
   ]
  },
  {
   "cell_type": "code",
   "execution_count": 2,
   "metadata": {},
   "outputs": [
    {
     "ename": "NameError",
     "evalue": "name 'calsalary' is not defined",
     "output_type": "error",
     "traceback": [
      "\u001b[1;31m---------------------------------------------------------------------------\u001b[0m",
      "\u001b[1;31mNameError\u001b[0m                                 Traceback (most recent call last)",
      "Cell \u001b[1;32mIn[2], line 5\u001b[0m\n\u001b[0;32m      2\u001b[0m salary \u001b[38;5;241m=\u001b[39m \u001b[38;5;28mint\u001b[39m(\u001b[38;5;28minput\u001b[39m(\u001b[38;5;124m\"\u001b[39m\u001b[38;5;124mระบุเงินเดือน : \u001b[39m\u001b[38;5;124m\"\u001b[39m))\n\u001b[0;32m      3\u001b[0m otperhours \u001b[38;5;241m=\u001b[39m \u001b[38;5;28mint\u001b[39m(\u001b[38;5;28minput\u001b[39m(\u001b[38;5;124m\"\u001b[39m\u001b[38;5;124mงานที่ทำล่วงเวลา : \u001b[39m\u001b[38;5;124m\"\u001b[39m))\n\u001b[1;32m----> 5\u001b[0m calsalary(name, salary, otperhours)\n",
      "\u001b[1;31mNameError\u001b[0m: name 'calsalary' is not defined"
     ]
    }
   ],
   "source": [
    "name = str(input(\"ระบุชื่อพนักงาน : \"))\n",
    "salary = int(input(\"ระบุเงินเดือน : \"))\n",
    "otperhours = int(input(\"งานที่ทำล่วงเวลา : \"))\n",
    "\n",
    "calsalary(name, salary, otperhours)"
   ]
  }
 ],
 "metadata": {
  "kernelspec": {
   "display_name": "base",
   "language": "python",
   "name": "python3"
  },
  "language_info": {
   "codemirror_mode": {
    "name": "ipython",
    "version": 3
   },
   "file_extension": ".py",
   "mimetype": "text/x-python",
   "name": "python",
   "nbconvert_exporter": "python",
   "pygments_lexer": "ipython3",
   "version": "3.11.7"
  }
 },
 "nbformat": 4,
 "nbformat_minor": 2
}
